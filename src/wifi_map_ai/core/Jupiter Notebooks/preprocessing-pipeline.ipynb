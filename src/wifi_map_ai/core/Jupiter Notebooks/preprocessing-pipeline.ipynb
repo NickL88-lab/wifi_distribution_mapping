{
 "cells": [
  {
   "cell_type": "code",
   "execution_count": 2,
   "id": "857d47d8-4014-4154-a5b8-4b81f553d1bd",
   "metadata": {},
   "outputs": [
    {
     "name": "stdout",
     "output_type": "stream",
     "text": [
      "Requirement already satisfied: numpy in /opt/conda/lib/python3.9/site-packages (1.26.4)\n",
      "Requirement already satisfied: scikit-learn in /opt/conda/lib/python3.9/site-packages (1.4.1.post1)\n",
      "Requirement already satisfied: matplotlib in /opt/conda/lib/python3.9/site-packages (3.8.2)\n",
      "Requirement already satisfied: lightgbm in /opt/conda/lib/python3.9/site-packages (4.3.0)\n",
      "Requirement already satisfied: pandas in /opt/conda/lib/python3.9/site-packages (2.2.0)\n",
      "Requirement already satisfied: seaborn in /opt/conda/lib/python3.9/site-packages (0.13.2)\n",
      "Requirement already satisfied: catboost in /opt/conda/lib/python3.9/site-packages (1.2.2)\n",
      "Requirement already satisfied: scipy>=1.6.0 in /opt/conda/lib/python3.9/site-packages (from scikit-learn) (1.12.0)\n",
      "Requirement already satisfied: threadpoolctl>=2.0.0 in /opt/conda/lib/python3.9/site-packages (from scikit-learn) (3.3.0)\n",
      "Requirement already satisfied: joblib>=1.2.0 in /opt/conda/lib/python3.9/site-packages (from scikit-learn) (1.3.2)\n",
      "Requirement already satisfied: kiwisolver>=1.3.1 in /opt/conda/lib/python3.9/site-packages (from matplotlib) (1.4.5)\n",
      "Requirement already satisfied: pillow>=8 in /opt/conda/lib/python3.9/site-packages (from matplotlib) (10.2.0)\n",
      "Requirement already satisfied: python-dateutil>=2.7 in /opt/conda/lib/python3.9/site-packages (from matplotlib) (2.8.2)\n",
      "Requirement already satisfied: contourpy>=1.0.1 in /opt/conda/lib/python3.9/site-packages (from matplotlib) (1.2.0)\n",
      "Requirement already satisfied: pyparsing>=2.3.1 in /opt/conda/lib/python3.9/site-packages (from matplotlib) (3.1.1)\n",
      "Requirement already satisfied: importlib-resources>=3.2.0 in /opt/conda/lib/python3.9/site-packages (from matplotlib) (6.1.1)\n",
      "Requirement already satisfied: packaging>=20.0 in /opt/conda/lib/python3.9/site-packages (from matplotlib) (23.2)\n",
      "Requirement already satisfied: fonttools>=4.22.0 in /opt/conda/lib/python3.9/site-packages (from matplotlib) (4.48.1)\n",
      "Requirement already satisfied: cycler>=0.10 in /opt/conda/lib/python3.9/site-packages (from matplotlib) (0.12.1)\n",
      "Requirement already satisfied: tzdata>=2022.7 in /opt/conda/lib/python3.9/site-packages (from pandas) (2023.4)\n",
      "Requirement already satisfied: pytz>=2020.1 in /opt/conda/lib/python3.9/site-packages (from pandas) (2023.3.post1)\n",
      "Requirement already satisfied: six in /opt/conda/lib/python3.9/site-packages (from catboost) (1.16.0)\n",
      "Requirement already satisfied: plotly in /opt/conda/lib/python3.9/site-packages (from catboost) (5.18.0)\n",
      "Requirement already satisfied: graphviz in /opt/conda/lib/python3.9/site-packages (from catboost) (0.20.1)\n",
      "Requirement already satisfied: zipp>=3.1.0 in /opt/conda/lib/python3.9/site-packages (from importlib-resources>=3.2.0->matplotlib) (3.17.0)\n",
      "Requirement already satisfied: tenacity>=6.2.0 in /opt/conda/lib/python3.9/site-packages (from plotly->catboost) (8.2.3)\n"
     ]
    }
   ],
   "source": [
    "!pip install numpy scikit-learn matplotlib lightgbm pandas seaborn catboost"
   ]
  },
  {
   "cell_type": "code",
   "execution_count": 8,
   "id": "4c8ae336-5a06-49d1-a12b-fc5468e2617a",
   "metadata": {},
   "outputs": [],
   "source": [
    "import pandas as pd\n",
    "import numpy as np\n",
    "import os\n",
    "\n",
    "from sklearn.preprocessing import StandardScaler\n",
    "from sklearn.model_selection import train_test_split\n",
    "from sklearn.metrics import mean_squared_error\n",
    "\n",
    "from sklearn.multioutput import MultiOutputRegressor           # https://scikit-learn.org/stable/modules/generated/sklearn.multioutput.MultiOutputRegressor.html\n",
    "from sklearn.ensemble import ExtraTreesRegressor               # https://scikit-learn.org/stable/modules/generated/sklearn.tree.ExtraTreeRegressor.html\n",
    "#from xgboost import XGBRegressor\n",
    "from lightgbm import LGBMRegressor\n",
    "from catboost import CatBoostRegressor\n",
    "\n",
    "\n",
    "\n",
    "from matplotlib import style\n",
    "import matplotlib.pyplot as plt\n",
    "import matplotlib\n",
    "%matplotlib inline\n",
    "matplotlib.rcParams.update({'font.size': 20})\n",
    "\n",
    "import warnings\n",
    "warnings.simplefilter(action='ignore', category=FutureWarning)\n",
    "\n",
    "from pathlib import Path"
   ]
  },
  {
   "cell_type": "markdown",
   "id": "a6c18fe7-e1f1-4ad6-9004-2d4bead1ad10",
   "metadata": {},
   "source": [
    "### Read input data"
   ]
  },
  {
   "cell_type": "code",
   "execution_count": 20,
   "id": "660a7fd1-09e5-412e-9503-c4d40ad3fe54",
   "metadata": {},
   "outputs": [],
   "source": [
    "main_path = Path().absolute()\n",
    "data_path = main_path / 'Data' / 'Raw'\n",
    "\n",
    "num_samples = 400\n",
    "\n",
    "X = np.zeros([num_samples, 2])\n",
    "Y = np.zeros([num_samples, 10201])\n",
    "\n",
    "#for i in range(0, num_samples):\n",
    "#    df = pd.read_csv(data_path / f\"Near E Table {i+1}.csv\")\n",
    "#    X[i,0], X[i,1] = df[\"paramX []\"].iloc[0], df[\"paramY []\"].iloc[0]\n",
    "#    Y[i,:] = df[\"NearETotal/max(NearETotal) []\"]\n",
    "\n",
    "num = 0\n",
    "for file_path in data_path.glob('*'):\n",
    "    if file_path.is_file():     \n",
    "        df = pd.read_csv(file_path)\n",
    "        X[num,0], X[num,1] = df[\"x_coord [mm]\"].iloc[0]/1000, df[\"y_coord [mm]\"].iloc[0]/1000\n",
    "        Y[num,:] = df[\"NearETotal/max(NearETotal) []\"]\n",
    "        num += 1\n",
    "    print(f\"Finished processing {num} files\")"
   ]
  },
  {
   "cell_type": "markdown",
   "id": "03e85411-b97c-432b-a58c-6d0efee4acfd",
   "metadata": {},
   "source": [
    "### Export files for processing"
   ]
  },
  {
   "cell_type": "code",
   "execution_count": 25,
   "id": "8a8572fa-866d-4f00-aa3e-4c3d67f1da9e",
   "metadata": {},
   "outputs": [],
   "source": [
    "export_path = main_path / \"Data\" / \"Clean\"\n",
    "np.save(export_path / \"X.npy\", X)\n",
    "np.save(export_path / \"Y.npy\", Y)"
   ]
  },
  {
   "cell_type": "code",
   "execution_count": null,
   "id": "d53c4178-f5ee-4169-9899-17c62773f516",
   "metadata": {},
   "outputs": [],
   "source": []
  }
 ],
 "metadata": {
  "kernelspec": {
   "display_name": "Python 3 (ipykernel)",
   "language": "python",
   "name": "python3"
  },
  "language_info": {
   "codemirror_mode": {
    "name": "ipython",
    "version": 3
   },
   "file_extension": ".py",
   "mimetype": "text/x-python",
   "name": "python",
   "nbconvert_exporter": "python",
   "pygments_lexer": "ipython3",
   "version": "3.9.12"
  }
 },
 "nbformat": 4,
 "nbformat_minor": 5
}
